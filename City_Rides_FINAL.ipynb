{
 "cells": [
  {
   "cell_type": "markdown",
   "metadata": {},
   "source": [
    "Trends\n",
    "\n",
    "1: Relative to suburban and rural communities, there are more rides in urban areas and the average fare is cheaper.  Similarly, suburban communities have cheaper average fares and more rides compared to their rural counterparts.\n",
    "\n",
    "2: The number of drivers in urban areas were disproportionately greater (77.9%) as compared to the percentage of rides that were provided in urban areas (68.4%).  On the other hand, a smaller percentage of drivers provided a larger percentage of rides in suburban and rural areas.\n",
    "\n",
    "3: Just under 2/3 of revenue (63%) comes from rides provided in urban areas, 30% from rides provided in suburban areas and only 6.7% from rides provided in rural areas.\n",
    "\n"
   ]
  },
  {
   "cell_type": "code",
   "execution_count": 52,
   "metadata": {
    "collapsed": true
   },
   "outputs": [],
   "source": [
    "import matplotlib.pyplot as plt\n",
    "import pandas as pd\n",
    "import numpy as np\n",
    "import os\n",
    "import seaborn as sns"
   ]
  },
  {
   "cell_type": "code",
   "execution_count": 54,
   "metadata": {},
   "outputs": [
    {
     "data": {
      "text/html": [
       "<div>\n",
       "<style scoped>\n",
       "    .dataframe tbody tr th:only-of-type {\n",
       "        vertical-align: middle;\n",
       "    }\n",
       "\n",
       "    .dataframe tbody tr th {\n",
       "        vertical-align: top;\n",
       "    }\n",
       "\n",
       "    .dataframe thead th {\n",
       "        text-align: right;\n",
       "    }\n",
       "</style>\n",
       "<table border=\"1\" class=\"dataframe\">\n",
       "  <thead>\n",
       "    <tr style=\"text-align: right;\">\n",
       "      <th></th>\n",
       "      <th>driver_count</th>\n",
       "      <th>type</th>\n",
       "    </tr>\n",
       "    <tr>\n",
       "      <th>city</th>\n",
       "      <th></th>\n",
       "      <th></th>\n",
       "    </tr>\n",
       "  </thead>\n",
       "  <tbody>\n",
       "    <tr>\n",
       "      <th>Alvarezhaven</th>\n",
       "      <td>21</td>\n",
       "      <td>Urban</td>\n",
       "    </tr>\n",
       "    <tr>\n",
       "      <th>Alyssaberg</th>\n",
       "      <td>67</td>\n",
       "      <td>Urban</td>\n",
       "    </tr>\n",
       "    <tr>\n",
       "      <th>Anitamouth</th>\n",
       "      <td>16</td>\n",
       "      <td>Suburban</td>\n",
       "    </tr>\n",
       "    <tr>\n",
       "      <th>Antoniomouth</th>\n",
       "      <td>21</td>\n",
       "      <td>Urban</td>\n",
       "    </tr>\n",
       "    <tr>\n",
       "      <th>Aprilchester</th>\n",
       "      <td>49</td>\n",
       "      <td>Urban</td>\n",
       "    </tr>\n",
       "  </tbody>\n",
       "</table>\n",
       "</div>"
      ],
      "text/plain": [
       "              driver_count      type\n",
       "city                                \n",
       "Alvarezhaven            21     Urban\n",
       "Alyssaberg              67     Urban\n",
       "Anitamouth              16  Suburban\n",
       "Antoniomouth            21     Urban\n",
       "Aprilchester            49     Urban"
      ]
     },
     "execution_count": 54,
     "metadata": {},
     "output_type": "execute_result"
    }
   ],
   "source": [
    "city_data = pd.read_csv(\"raw_data/city_data.csv\")\n",
    "#city_data.head()\n",
    "city_data = city_data.drop(city_data.index[[100]])\n",
    "city_data = city_data.sort_values(\"city\")\n",
    "city_data = city_data.set_index('city')\n",
    "city_data.head()"
   ]
  },
  {
   "cell_type": "code",
   "execution_count": 55,
   "metadata": {},
   "outputs": [
    {
     "data": {
      "text/html": [
       "<div>\n",
       "<style scoped>\n",
       "    .dataframe tbody tr th:only-of-type {\n",
       "        vertical-align: middle;\n",
       "    }\n",
       "\n",
       "    .dataframe tbody tr th {\n",
       "        vertical-align: top;\n",
       "    }\n",
       "\n",
       "    .dataframe thead th {\n",
       "        text-align: right;\n",
       "    }\n",
       "</style>\n",
       "<table border=\"1\" class=\"dataframe\">\n",
       "  <thead>\n",
       "    <tr style=\"text-align: right;\">\n",
       "      <th></th>\n",
       "      <th>driver_count</th>\n",
       "      <th>type</th>\n",
       "      <th>color</th>\n",
       "    </tr>\n",
       "    <tr>\n",
       "      <th>city</th>\n",
       "      <th></th>\n",
       "      <th></th>\n",
       "      <th></th>\n",
       "    </tr>\n",
       "  </thead>\n",
       "  <tbody>\n",
       "    <tr>\n",
       "      <th>Alvarezhaven</th>\n",
       "      <td>21</td>\n",
       "      <td>Urban</td>\n",
       "      <td></td>\n",
       "    </tr>\n",
       "    <tr>\n",
       "      <th>Alyssaberg</th>\n",
       "      <td>67</td>\n",
       "      <td>Urban</td>\n",
       "      <td></td>\n",
       "    </tr>\n",
       "    <tr>\n",
       "      <th>Anitamouth</th>\n",
       "      <td>16</td>\n",
       "      <td>Suburban</td>\n",
       "      <td></td>\n",
       "    </tr>\n",
       "    <tr>\n",
       "      <th>Antoniomouth</th>\n",
       "      <td>21</td>\n",
       "      <td>Urban</td>\n",
       "      <td></td>\n",
       "    </tr>\n",
       "    <tr>\n",
       "      <th>Aprilchester</th>\n",
       "      <td>49</td>\n",
       "      <td>Urban</td>\n",
       "      <td></td>\n",
       "    </tr>\n",
       "  </tbody>\n",
       "</table>\n",
       "</div>"
      ],
      "text/plain": [
       "              driver_count      type color\n",
       "city                                      \n",
       "Alvarezhaven            21     Urban      \n",
       "Alyssaberg              67     Urban      \n",
       "Anitamouth              16  Suburban      \n",
       "Antoniomouth            21     Urban      \n",
       "Aprilchester            49     Urban      "
      ]
     },
     "execution_count": 55,
     "metadata": {},
     "output_type": "execute_result"
    }
   ],
   "source": [
    "# city_data[\"ride_count\"] = \"\"\n",
    "# city_data[\"mean_fare\"] = \"\"\n",
    "city_data[\"color\"] = \"\"\n",
    "city_data.head()"
   ]
  },
  {
   "cell_type": "code",
   "execution_count": 56,
   "metadata": {},
   "outputs": [
    {
     "name": "stderr",
     "output_type": "stream",
     "text": [
      "/Users/Madeleine/anaconda3/envs/PythonData/lib/python3.6/site-packages/ipykernel/__main__.py:4: SettingWithCopyWarning: \n",
      "A value is trying to be set on a copy of a slice from a DataFrame\n",
      "\n",
      "See the caveats in the documentation: http://pandas.pydata.org/pandas-docs/stable/indexing.html#indexing-view-versus-copy\n",
      "/Users/Madeleine/anaconda3/envs/PythonData/lib/python3.6/site-packages/ipykernel/__main__.py:6: SettingWithCopyWarning: \n",
      "A value is trying to be set on a copy of a slice from a DataFrame\n",
      "\n",
      "See the caveats in the documentation: http://pandas.pydata.org/pandas-docs/stable/indexing.html#indexing-view-versus-copy\n",
      "/Users/Madeleine/anaconda3/envs/PythonData/lib/python3.6/site-packages/ipykernel/__main__.py:8: SettingWithCopyWarning: \n",
      "A value is trying to be set on a copy of a slice from a DataFrame\n",
      "\n",
      "See the caveats in the documentation: http://pandas.pydata.org/pandas-docs/stable/indexing.html#indexing-view-versus-copy\n"
     ]
    },
    {
     "data": {
      "text/html": [
       "<div>\n",
       "<style scoped>\n",
       "    .dataframe tbody tr th:only-of-type {\n",
       "        vertical-align: middle;\n",
       "    }\n",
       "\n",
       "    .dataframe tbody tr th {\n",
       "        vertical-align: top;\n",
       "    }\n",
       "\n",
       "    .dataframe thead th {\n",
       "        text-align: right;\n",
       "    }\n",
       "</style>\n",
       "<table border=\"1\" class=\"dataframe\">\n",
       "  <thead>\n",
       "    <tr style=\"text-align: right;\">\n",
       "      <th></th>\n",
       "      <th>driver_count</th>\n",
       "      <th>type</th>\n",
       "      <th>color</th>\n",
       "    </tr>\n",
       "    <tr>\n",
       "      <th>city</th>\n",
       "      <th></th>\n",
       "      <th></th>\n",
       "      <th></th>\n",
       "    </tr>\n",
       "  </thead>\n",
       "  <tbody>\n",
       "    <tr>\n",
       "      <th>Alvarezhaven</th>\n",
       "      <td>21</td>\n",
       "      <td>Urban</td>\n",
       "      <td>lightcoral</td>\n",
       "    </tr>\n",
       "    <tr>\n",
       "      <th>Alyssaberg</th>\n",
       "      <td>67</td>\n",
       "      <td>Urban</td>\n",
       "      <td>lightcoral</td>\n",
       "    </tr>\n",
       "    <tr>\n",
       "      <th>Anitamouth</th>\n",
       "      <td>16</td>\n",
       "      <td>Suburban</td>\n",
       "      <td>lightskyblue</td>\n",
       "    </tr>\n",
       "    <tr>\n",
       "      <th>Antoniomouth</th>\n",
       "      <td>21</td>\n",
       "      <td>Urban</td>\n",
       "      <td>lightcoral</td>\n",
       "    </tr>\n",
       "    <tr>\n",
       "      <th>Aprilchester</th>\n",
       "      <td>49</td>\n",
       "      <td>Urban</td>\n",
       "      <td>lightcoral</td>\n",
       "    </tr>\n",
       "  </tbody>\n",
       "</table>\n",
       "</div>"
      ],
      "text/plain": [
       "              driver_count      type         color\n",
       "city                                              \n",
       "Alvarezhaven            21     Urban    lightcoral\n",
       "Alyssaberg              67     Urban    lightcoral\n",
       "Anitamouth              16  Suburban  lightskyblue\n",
       "Antoniomouth            21     Urban    lightcoral\n",
       "Aprilchester            49     Urban    lightcoral"
      ]
     },
     "execution_count": 56,
     "metadata": {},
     "output_type": "execute_result"
    }
   ],
   "source": [
    "color_dict = {\"Rural\":\"Gold\", \"Suburban\": \"lightskyblue\", \"Urban\":\"lightcoral\"}\n",
    "for index, row in city_data.iterrows():\n",
    "    if row[\"type\"] == \"Urban\":\n",
    "        city_data[\"color\"][index] = color_dict[\"Urban\"]\n",
    "    elif row[\"type\"] == \"Suburban\":\n",
    "        city_data[\"color\"][index] = color_dict[\"Suburban\"]\n",
    "    else:\n",
    "        city_data[\"color\"][index] = color_dict[\"Rural\"]\n",
    "city_data.head()\n",
    "        "
   ]
  },
  {
   "cell_type": "code",
   "execution_count": 57,
   "metadata": {},
   "outputs": [
    {
     "data": {
      "text/html": [
       "<div>\n",
       "<style scoped>\n",
       "    .dataframe tbody tr th:only-of-type {\n",
       "        vertical-align: middle;\n",
       "    }\n",
       "\n",
       "    .dataframe tbody tr th {\n",
       "        vertical-align: top;\n",
       "    }\n",
       "\n",
       "    .dataframe thead th {\n",
       "        text-align: right;\n",
       "    }\n",
       "</style>\n",
       "<table border=\"1\" class=\"dataframe\">\n",
       "  <thead>\n",
       "    <tr style=\"text-align: right;\">\n",
       "      <th></th>\n",
       "      <th>city</th>\n",
       "      <th>date</th>\n",
       "      <th>fare</th>\n",
       "      <th>ride_id</th>\n",
       "    </tr>\n",
       "  </thead>\n",
       "  <tbody>\n",
       "    <tr>\n",
       "      <th>0</th>\n",
       "      <td>Sarabury</td>\n",
       "      <td>2016-01-16 13:49:27</td>\n",
       "      <td>38.35</td>\n",
       "      <td>5403689035038</td>\n",
       "    </tr>\n",
       "    <tr>\n",
       "      <th>1</th>\n",
       "      <td>South Roy</td>\n",
       "      <td>2016-01-02 18:42:34</td>\n",
       "      <td>17.49</td>\n",
       "      <td>4036272335942</td>\n",
       "    </tr>\n",
       "    <tr>\n",
       "      <th>2</th>\n",
       "      <td>Wiseborough</td>\n",
       "      <td>2016-01-21 17:35:29</td>\n",
       "      <td>44.18</td>\n",
       "      <td>3645042422587</td>\n",
       "    </tr>\n",
       "    <tr>\n",
       "      <th>3</th>\n",
       "      <td>Spencertown</td>\n",
       "      <td>2016-07-31 14:53:22</td>\n",
       "      <td>6.87</td>\n",
       "      <td>2242596575892</td>\n",
       "    </tr>\n",
       "    <tr>\n",
       "      <th>4</th>\n",
       "      <td>Nguyenbury</td>\n",
       "      <td>2016-07-09 04:42:44</td>\n",
       "      <td>6.28</td>\n",
       "      <td>1543057793673</td>\n",
       "    </tr>\n",
       "  </tbody>\n",
       "</table>\n",
       "</div>"
      ],
      "text/plain": [
       "          city                 date   fare        ride_id\n",
       "0     Sarabury  2016-01-16 13:49:27  38.35  5403689035038\n",
       "1    South Roy  2016-01-02 18:42:34  17.49  4036272335942\n",
       "2  Wiseborough  2016-01-21 17:35:29  44.18  3645042422587\n",
       "3  Spencertown  2016-07-31 14:53:22   6.87  2242596575892\n",
       "4   Nguyenbury  2016-07-09 04:42:44   6.28  1543057793673"
      ]
     },
     "execution_count": 57,
     "metadata": {},
     "output_type": "execute_result"
    }
   ],
   "source": [
    "ride_data = pd.read_csv(\"raw_data/ride_data.csv\")\n",
    "#drop extra data point\n",
    "ride_data.head()"
   ]
  },
  {
   "cell_type": "code",
   "execution_count": 60,
   "metadata": {},
   "outputs": [
    {
     "data": {
      "text/html": [
       "<div>\n",
       "<style scoped>\n",
       "    .dataframe tbody tr th:only-of-type {\n",
       "        vertical-align: middle;\n",
       "    }\n",
       "\n",
       "    .dataframe tbody tr th {\n",
       "        vertical-align: top;\n",
       "    }\n",
       "\n",
       "    .dataframe thead th {\n",
       "        text-align: right;\n",
       "    }\n",
       "</style>\n",
       "<table border=\"1\" class=\"dataframe\">\n",
       "  <thead>\n",
       "    <tr style=\"text-align: right;\">\n",
       "      <th></th>\n",
       "      <th>driver_count</th>\n",
       "      <th>type</th>\n",
       "      <th>color</th>\n",
       "      <th>mean_fare</th>\n",
       "      <th>ride_count</th>\n",
       "    </tr>\n",
       "    <tr>\n",
       "      <th>city</th>\n",
       "      <th></th>\n",
       "      <th></th>\n",
       "      <th></th>\n",
       "      <th></th>\n",
       "      <th></th>\n",
       "    </tr>\n",
       "  </thead>\n",
       "  <tbody>\n",
       "    <tr>\n",
       "      <th>Alvarezhaven</th>\n",
       "      <td>21</td>\n",
       "      <td>Urban</td>\n",
       "      <td>lightcoral</td>\n",
       "      <td>23.928710</td>\n",
       "      <td>31</td>\n",
       "    </tr>\n",
       "    <tr>\n",
       "      <th>Alyssaberg</th>\n",
       "      <td>67</td>\n",
       "      <td>Urban</td>\n",
       "      <td>lightcoral</td>\n",
       "      <td>20.609615</td>\n",
       "      <td>26</td>\n",
       "    </tr>\n",
       "    <tr>\n",
       "      <th>Anitamouth</th>\n",
       "      <td>16</td>\n",
       "      <td>Suburban</td>\n",
       "      <td>lightskyblue</td>\n",
       "      <td>37.315556</td>\n",
       "      <td>9</td>\n",
       "    </tr>\n",
       "    <tr>\n",
       "      <th>Antoniomouth</th>\n",
       "      <td>21</td>\n",
       "      <td>Urban</td>\n",
       "      <td>lightcoral</td>\n",
       "      <td>23.625000</td>\n",
       "      <td>22</td>\n",
       "    </tr>\n",
       "    <tr>\n",
       "      <th>Aprilchester</th>\n",
       "      <td>49</td>\n",
       "      <td>Urban</td>\n",
       "      <td>lightcoral</td>\n",
       "      <td>21.981579</td>\n",
       "      <td>19</td>\n",
       "    </tr>\n",
       "  </tbody>\n",
       "</table>\n",
       "</div>"
      ],
      "text/plain": [
       "              driver_count      type         color  mean_fare  ride_count\n",
       "city                                                                     \n",
       "Alvarezhaven            21     Urban    lightcoral  23.928710          31\n",
       "Alyssaberg              67     Urban    lightcoral  20.609615          26\n",
       "Anitamouth              16  Suburban  lightskyblue  37.315556           9\n",
       "Antoniomouth            21     Urban    lightcoral  23.625000          22\n",
       "Aprilchester            49     Urban    lightcoral  21.981579          19"
      ]
     },
     "execution_count": 60,
     "metadata": {},
     "output_type": "execute_result"
    }
   ],
   "source": [
    "grouped_ride_data = ride_data.groupby(\"city\")\n",
    "city_data[\"mean_fare\"] = grouped_ride_data[\"fare\"].mean()\n",
    "city_data[\"ride_count\"] = grouped_ride_data[\"ride_id\"].count()\n",
    "city_data.head()"
   ]
  },
  {
   "cell_type": "code",
   "execution_count": 70,
   "metadata": {
    "scrolled": true
   },
   "outputs": [
    {
     "data": {
      "image/png": "[encoded data removed]",
      "text/plain": [
       "<matplotlib.figure.Figure at 0x1a15b1dd68>"
      ]
     },
     "metadata": {},
     "output_type": "display_data"
    }
   ],
   "source": [
    "grouped_bytype = city_data.groupby('type')\n",
    "\n",
    "for key, grp in grouped_bytype:    \n",
    "    plt.scatter(x=grp[\"ride_count\"],y=grp[\"mean_fare\"],\n",
    "            c=grp.color, \n",
    "            label=key,\n",
    "            alpha=0.5,\n",
    "            s=(grp.driver_count*4),\n",
    "            edgecolors='bk',linewidths=.5)\n",
    "    \n",
    "plt.title(\"Ride Sharing Data\")\n",
    "plt.xlabel(\"Number of Rides (PerCity)\")\n",
    "plt.ylabel(\"Average Fare\")\n",
    "\n",
    "plt.legend();\n",
    "plt.show()"
   ]
  },
  {
   "cell_type": "code",
   "execution_count": 81,
   "metadata": {},
   "outputs": [
    {
     "data": {
      "text/html": [
       "<div>\n",
       "<style scoped>\n",
       "    .dataframe tbody tr th:only-of-type {\n",
       "        vertical-align: middle;\n",
       "    }\n",
       "\n",
       "    .dataframe tbody tr th {\n",
       "        vertical-align: top;\n",
       "    }\n",
       "\n",
       "    .dataframe thead th {\n",
       "        text-align: right;\n",
       "    }\n",
       "</style>\n",
       "<table border=\"1\" class=\"dataframe\">\n",
       "  <thead>\n",
       "    <tr style=\"text-align: right;\">\n",
       "      <th></th>\n",
       "      <th>driver_count</th>\n",
       "      <th>type</th>\n",
       "      <th>color</th>\n",
       "      <th>mean_fare</th>\n",
       "      <th>ride_count</th>\n",
       "      <th>city</th>\n",
       "      <th>date</th>\n",
       "      <th>fare</th>\n",
       "      <th>ride_id</th>\n",
       "    </tr>\n",
       "  </thead>\n",
       "  <tbody>\n",
       "    <tr>\n",
       "      <th>117</th>\n",
       "      <td>21</td>\n",
       "      <td>Urban</td>\n",
       "      <td>lightcoral</td>\n",
       "      <td>23.92871</td>\n",
       "      <td>31</td>\n",
       "      <td>Alvarezhaven</td>\n",
       "      <td>2016-04-18 20:51:29</td>\n",
       "      <td>31.93</td>\n",
       "      <td>4267015736324</td>\n",
       "    </tr>\n",
       "    <tr>\n",
       "      <th>125</th>\n",
       "      <td>21</td>\n",
       "      <td>Urban</td>\n",
       "      <td>lightcoral</td>\n",
       "      <td>23.92871</td>\n",
       "      <td>31</td>\n",
       "      <td>Alvarezhaven</td>\n",
       "      <td>2016-08-01 00:39:48</td>\n",
       "      <td>6.42</td>\n",
       "      <td>8394540350728</td>\n",
       "    </tr>\n",
       "    <tr>\n",
       "      <th>155</th>\n",
       "      <td>21</td>\n",
       "      <td>Urban</td>\n",
       "      <td>lightcoral</td>\n",
       "      <td>23.92871</td>\n",
       "      <td>31</td>\n",
       "      <td>Alvarezhaven</td>\n",
       "      <td>2016-09-01 22:57:12</td>\n",
       "      <td>18.09</td>\n",
       "      <td>1197329964911</td>\n",
       "    </tr>\n",
       "    <tr>\n",
       "      <th>250</th>\n",
       "      <td>21</td>\n",
       "      <td>Urban</td>\n",
       "      <td>lightcoral</td>\n",
       "      <td>23.92871</td>\n",
       "      <td>31</td>\n",
       "      <td>Alvarezhaven</td>\n",
       "      <td>2016-08-18 07:12:06</td>\n",
       "      <td>20.74</td>\n",
       "      <td>357421158941</td>\n",
       "    </tr>\n",
       "    <tr>\n",
       "      <th>340</th>\n",
       "      <td>21</td>\n",
       "      <td>Urban</td>\n",
       "      <td>lightcoral</td>\n",
       "      <td>23.92871</td>\n",
       "      <td>31</td>\n",
       "      <td>Alvarezhaven</td>\n",
       "      <td>2016-04-04 23:45:50</td>\n",
       "      <td>14.25</td>\n",
       "      <td>6431434271355</td>\n",
       "    </tr>\n",
       "  </tbody>\n",
       "</table>\n",
       "</div>"
      ],
      "text/plain": [
       "     driver_count   type       color  mean_fare  ride_count          city  \\\n",
       "117            21  Urban  lightcoral   23.92871          31  Alvarezhaven   \n",
       "125            21  Urban  lightcoral   23.92871          31  Alvarezhaven   \n",
       "155            21  Urban  lightcoral   23.92871          31  Alvarezhaven   \n",
       "250            21  Urban  lightcoral   23.92871          31  Alvarezhaven   \n",
       "340            21  Urban  lightcoral   23.92871          31  Alvarezhaven   \n",
       "\n",
       "                    date   fare        ride_id  \n",
       "117  2016-04-18 20:51:29  31.93  4267015736324  \n",
       "125  2016-08-01 00:39:48   6.42  8394540350728  \n",
       "155  2016-09-01 22:57:12  18.09  1197329964911  \n",
       "250  2016-08-18 07:12:06  20.74   357421158941  \n",
       "340  2016-04-04 23:45:50  14.25  6431434271355  "
      ]
     },
     "execution_count": 81,
     "metadata": {},
     "output_type": "execute_result"
    }
   ],
   "source": [
    "merged_data = pd.merge(city_data,ride_data, left_index=True, right_on=\"city\", how=\"outer\")\n",
    "merged_data.head()"
   ]
  },
  {
   "cell_type": "code",
   "execution_count": 83,
   "metadata": {
    "collapsed": true
   },
   "outputs": [],
   "source": [
    "merged_groupby_type = merged_data.groupby(\"type\")"
   ]
  },
  {
   "cell_type": "code",
   "execution_count": 93,
   "metadata": {},
   "outputs": [
    {
     "data": {
      "image/png": "[encoded data removed]",
      "text/plain": [
       "<matplotlib.figure.Figure at 0x1a0d1c7748>"
      ]
     },
     "metadata": {},
     "output_type": "display_data"
    }
   ],
   "source": [
    "# % of Total Fares by City Type\n",
    "#Find total fares \n",
    "total_fares = merged_data['fare'].sum()\n",
    "\n",
    "#Find total fares \n",
    "total_fares_by_type = merged_groupby_type[\"fare\"].sum()\n",
    "percent_fares_by_type = total_fares_by_type/total_fares*100\n",
    "percent_fares_by_type\n",
    "\n",
    "types = [\"Rural\", \"Suburban\",\"Urban\"]\n",
    "colors = [\"Gold\", \"lightskyblue\", \"lightcoral\"]\n",
    "explode = (0.05, 0.05, 0)\n",
    "\n",
    "plt.title(\"% Total Fares by City Type\")\n",
    "plt.pie(percent_fares_by_type, labels=types, colors=colors, autopct=\"%1.1f%%\",startangle=90, shadow=True, explode=explode)\n",
    "plt.axis(\"equal\")\n",
    "plt.show()"
   ]
  },
  {
   "cell_type": "code",
   "execution_count": 94,
   "metadata": {},
   "outputs": [
    {
     "data": {
      "image/png": "[encoded data removed]",
      "text/plain": [
       "<matplotlib.figure.Figure at 0x1a0c9194e0>"
      ]
     },
     "metadata": {},
     "output_type": "display_data"
    }
   ],
   "source": [
    "# % of Total Rides by City Type\n",
    "total_rides = ride_data[\"fare\"].count()\n",
    "\n",
    "#Find total fares \n",
    "total_rides_by_type = merged_groupby_type[\"fare\"].count()\n",
    "percent_rides_by_type = total_rides_by_type/total_rides*100\n",
    "percent_rides_by_type\n",
    "\n",
    "types = [\"Rural\", \"Suburban\",\"Urban\"]\n",
    "colors = [\"Gold\", \"lightskyblue\", \"lightcoral\"]\n",
    "explode = (0.05, 0.05, 0)\n",
    "\n",
    "plt.title(\"% Rides by City Type\")\n",
    "plt.pie(percent_rides_by_type, labels=types, colors=colors, autopct=\"%1.1f%%\",startangle=90, shadow=True, explode=explode)\n",
    "plt.axis(\"equal\")\n",
    "plt.show()\n"
   ]
  },
  {
   "cell_type": "code",
   "execution_count": 95,
   "metadata": {},
   "outputs": [
    {
     "data": {
      "image/png": "[encoded data removed]",
      "text/plain": [
       "<matplotlib.figure.Figure at 0x1a0d244cf8>"
      ]
     },
     "metadata": {},
     "output_type": "display_data"
    }
   ],
   "source": [
    "# % of Total Drivers by City Type\n",
    "# groupby_type = merged_data.groupby([\"type\", \"city\"])\n",
    "# driver_count = groupby_type[\"driver_count\"].first()\n",
    "# driver_count\n",
    "\n",
    "\n",
    "total_drivers = city_data[\"driver_count\"].sum()\n",
    "total_drivers\n",
    "\n",
    "total_drivers_by_type = grouped_bytype[\"driver_count\"].sum()\n",
    "total_drivers_by_type\n",
    "percent_drivers_by_type = total_drivers_by_type/total_drivers*100\n",
    "percent_drivers_by_type\n",
    "\n",
    "types = [\"Rural\", \"Suburban\",\"Urban\"]\n",
    "colors = [\"Gold\", \"lightskyblue\", \"lightcoral\"]\n",
    "explode = (0.05, 0.05, 0)\n",
    "\n",
    "plt.title(\"% Drivers by City Type\")\n",
    "plt.pie(percent_drivers_by_type, labels=types, colors=colors, autopct=\"%1.1f%%\",startangle=90, shadow=True, explode=explode)\n",
    "plt.axis(\"equal\")\n",
    "plt.show()"
   ]
  },
  {
   "cell_type": "code",
   "execution_count": null,
   "metadata": {
    "collapsed": true
   },
   "outputs": [],
   "source": []
  }
 ],
 "metadata": {
  "kernelspec": {
   "display_name": "Python [conda env:PythonData]",
   "language": "python",
   "name": "conda-env-PythonData-py"
  },
  "language_info": {
   "codemirror_mode": {
    "name": "ipython",
    "version": 3
   },
   "file_extension": ".py",
   "mimetype": "text/x-python",
   "name": "python",
   "nbconvert_exporter": "python",
   "pygments_lexer": "ipython3",
   "version": "3.6.3"
  }
 },
 "nbformat": 4,
 "nbformat_minor": 2
}
